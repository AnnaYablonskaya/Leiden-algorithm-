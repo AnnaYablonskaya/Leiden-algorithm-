{
 "cells": [
  {
   "cell_type": "code",
   "execution_count": 4,
   "metadata": {},
   "outputs": [
    {
     "name": "stdout",
     "output_type": "stream",
     "text": [
      "Collecting leidenalg\n",
      "  Downloading https://files.pythonhosted.org/packages/22/08/a2de044541f5903d8d51fd7b6a6b3ef44e74eeb8a5e3f408418c6f4b1bce/leidenalg-0.8.9-cp37-cp37m-win_amd64.whl (108kB)\n",
      "Collecting igraph<0.10,>=0.9.0 (from leidenalg)\n",
      "  Downloading https://files.pythonhosted.org/packages/96/d0/556ead15040571383c29b44ec20c488120b01cceebfe2b65db00401dd993/igraph-0.9.10-cp37-cp37m-win_amd64.whl (2.8MB)\n",
      "Collecting texttable>=1.6.2 (from igraph<0.10,>=0.9.0->leidenalg)\n",
      "  Using cached https://files.pythonhosted.org/packages/75/23/8170868d04b153b1b9ed1bb84348212bb4a08f31b292ef9d7f6ea648fd49/texttable-1.6.4-py2.py3-none-any.whl\n",
      "Installing collected packages: texttable, igraph, leidenalg\n",
      "Successfully installed igraph-0.9.10 leidenalg-0.8.9 texttable-1.6.4\n",
      "Note: you may need to restart the kernel to use updated packages.\n"
     ]
    }
   ],
   "source": [
    "pip install leidenalg"
   ]
  },
  {
   "cell_type": "code",
   "execution_count": 5,
   "metadata": {},
   "outputs": [
    {
     "name": "stdout",
     "output_type": "stream",
     "text": [
      "Package                            Version  \n",
      "---------------------------------- ---------\n",
      "alabaster                          0.7.12   \n",
      "anaconda-client                    1.7.2    \n",
      "anaconda-navigator                 1.9.12   \n",
      "anaconda-project                   0.8.3    \n",
      "asn1crypto                         1.0.1    \n",
      "astroid                            2.3.1    \n",
      "astropy                            3.2.1    \n",
      "atomicwrites                       1.3.0    \n",
      "attrs                              19.2.0   \n",
      "Babel                              2.7.0    \n",
      "backcall                           0.1.0    \n",
      "backports.functools-lru-cache      1.5      \n",
      "backports.os                       0.1.1    \n",
      "backports.shutil-get-terminal-size 1.0.0    \n",
      "backports.tempfile                 1.0      \n",
      "backports.weakref                  1.0.post1\n",
      "beautifulsoup4                     4.8.0    \n",
      "bitarray                           1.0.1    \n",
      "bkcharts                           0.2      \n",
      "bleach                             3.1.0    \n",
      "bokeh                              1.3.4    \n",
      "boto                               2.49.0   \n",
      "Bottleneck                         1.2.1    \n",
      "certifi                            2019.9.11\n",
      "cffi                               1.12.3   \n",
      "chardet                            3.0.4    \n",
      "Click                              7.0      \n",
      "cloudpickle                        1.2.2    \n",
      "clyent                             1.2.2    \n",
      "colorama                           0.4.1    \n",
      "comtypes                           1.1.7    \n",
      "conda                              4.9.2    \n",
      "conda-build                        3.18.9   \n",
      "conda-package-handling             1.6.0    \n",
      "conda-verify                       3.4.2    \n",
      "contextlib2                        0.6.0    \n",
      "cryptography                       2.7      \n",
      "cycler                             0.10.0   \n",
      "Cython                             0.29.13  \n",
      "cytoolz                            0.10.0   \n",
      "dask                               2.5.2    \n",
      "decorator                          4.4.0    \n",
      "defusedxml                         0.6.0    \n",
      "distributed                        2.5.2    \n",
      "docutils                           0.15.2   \n",
      "entrypoints                        0.3      \n",
      "et-xmlfile                         1.0.1    \n",
      "fastcache                          1.1.0    \n",
      "filelock                           3.0.12   \n",
      "Flask                              1.1.1    \n",
      "fsspec                             0.5.2    \n",
      "future                             0.17.1   \n",
      "gevent                             1.4.0    \n",
      "glob2                              0.7      \n",
      "greenlet                           0.4.15   \n",
      "h5py                               2.9.0    \n",
      "HeapDict                           1.0.1    \n",
      "html5lib                           1.0.1    \n",
      "idna                               2.8      \n",
      "igraph                             0.9.10   \n",
      "imageio                            2.6.0    \n",
      "imagesize                          1.1.0    \n",
      "importlib-metadata                 0.23     \n",
      "ipykernel                          5.1.2    \n",
      "ipython                            7.8.0    \n",
      "ipython-genutils                   0.2.0    \n",
      "ipywidgets                         7.5.1    \n",
      "isort                              4.3.21   \n",
      "itsdangerous                       1.1.0    \n",
      "jdcal                              1.4.1    \n",
      "jedi                               0.15.1   \n",
      "Jinja2                             2.10.3   \n",
      "joblib                             0.13.2   \n",
      "json5                              0.8.5    \n",
      "jsonschema                         3.0.2    \n",
      "jupyter                            1.0.0    \n",
      "jupyter-client                     5.3.3    \n",
      "jupyter-console                    6.0.0    \n",
      "jupyter-core                       4.5.0    \n",
      "jupyterlab                         1.1.4    \n",
      "jupyterlab-server                  1.0.6    \n",
      "keyring                            18.0.0   \n",
      "kiwisolver                         1.1.0    \n",
      "lazy-object-proxy                  1.4.2    \n",
      "leidenalg                          0.8.9    \n",
      "libarchive-c                       2.8      \n",
      "llvmlite                           0.29.0   \n",
      "locket                             0.2.0    \n",
      "lxml                               4.4.1    \n",
      "MarkupSafe                         1.1.1    \n",
      "matplotlib                         3.1.1    \n",
      "mccabe                             0.6.1    \n",
      "menuinst                           1.4.16   \n",
      "mistune                            0.8.4    \n",
      "mkl-fft                            1.0.14   \n",
      "mkl-random                         1.1.0    \n",
      "mkl-service                        2.3.0    \n",
      "mock                               3.0.5    \n",
      "more-itertools                     7.2.0    \n",
      "mpmath                             1.1.0    \n",
      "msgpack                            0.6.1    \n",
      "multipledispatch                   0.6.0    \n",
      "mysql-connector-python             8.0.21   \n",
      "navigator-updater                  0.2.1    \n",
      "nbconvert                          5.6.0    \n",
      "nbformat                           4.4.0    \n",
      "networkx                           2.3      \n",
      "nltk                               3.4.5    \n",
      "nose                               1.3.7    \n",
      "notebook                           6.0.1    \n",
      "numba                              0.45.1   \n",
      "numexpr                            2.7.0    \n",
      "numpy                              1.16.5   \n",
      "numpydoc                           0.9.1    \n",
      "olefile                            0.46     \n",
      "openpyxl                           3.0.0    \n",
      "packaging                          19.2     \n",
      "pandas                             0.25.1   \n",
      "pandocfilters                      1.4.2    \n",
      "parso                              0.5.1    \n",
      "partd                              1.0.0    \n",
      "path.py                            12.0.1   \n",
      "pathlib2                           2.3.5    \n",
      "patsy                              0.5.1    \n",
      "pep8                               1.7.1    \n",
      "pickleshare                        0.7.5    \n",
      "Pillow                             6.2.0    \n",
      "pip                                19.2.3   \n",
      "pkginfo                            1.5.0.1  \n",
      "pluggy                             0.13.0   \n",
      "ply                                3.11     \n",
      "prometheus-client                  0.7.1    \n",
      "prompt-toolkit                     2.0.10   \n",
      "psutil                             5.6.3    \n",
      "py                                 1.8.0    \n",
      "pycodestyle                        2.5.0    \n",
      "pycosat                            0.6.3    \n",
      "pycparser                          2.19     \n",
      "pycrypto                           2.6.1    \n",
      "pycurl                             7.43.0.3 \n",
      "pyflakes                           2.1.1    \n",
      "Pygments                           2.4.2    \n",
      "pylint                             2.4.2    \n",
      "pyodbc                             4.0.27   \n",
      "pyOpenSSL                          19.0.0   \n",
      "pyparsing                          2.4.2    \n",
      "pyreadline                         2.1      \n",
      "pyrsistent                         0.15.4   \n",
      "PySocks                            1.7.1    \n",
      "pyTelegramBotAPI                   3.6.7    \n",
      "pytest                             5.2.1    \n",
      "pytest-arraydiff                   0.3      \n",
      "pytest-astropy                     0.5.0    \n",
      "pytest-doctestplus                 0.4.0    \n",
      "pytest-openfiles                   0.4.0    \n",
      "pytest-remotedata                  0.3.2    \n",
      "python-dateutil                    2.8.0    \n",
      "python-louvain                     0.16     \n",
      "pytz                               2019.3   \n",
      "PyWavelets                         1.0.3    \n",
      "pywin32                            223      \n",
      "pywinpty                           0.5.5    \n",
      "PyYAML                             5.1.2    \n",
      "pyzmq                              18.1.0   \n",
      "QtAwesome                          0.6.0    \n",
      "qtconsole                          4.5.5    \n",
      "QtPy                               1.9.0    \n",
      "requests                           2.22.0   \n",
      "rope                               0.14.0   \n",
      "ruamel-yaml                        0.15.46  \n",
      "scikit-image                       0.15.0   \n",
      "scikit-learn                       0.21.3   \n",
      "scipy                              1.3.1    \n",
      "seaborn                            0.9.0    \n",
      "Send2Trash                         1.5.0    \n",
      "setuptools                         41.4.0   \n",
      "simplegeneric                      0.8.1    \n",
      "singledispatch                     3.4.0.3  \n",
      "six                                1.12.0   \n",
      "snowballstemmer                    2.0.0    \n",
      "sortedcollections                  1.1.2    \n",
      "sortedcontainers                   2.1.0    \n",
      "soupsieve                          1.9.3    \n",
      "Sphinx                             2.2.0    \n",
      "sphinxcontrib-applehelp            1.0.1    \n",
      "sphinxcontrib-devhelp              1.0.1    \n",
      "sphinxcontrib-htmlhelp             1.0.2    \n",
      "sphinxcontrib-jsmath               1.0.1    \n",
      "sphinxcontrib-qthelp               1.0.2    \n",
      "sphinxcontrib-serializinghtml      1.1.3    \n",
      "sphinxcontrib-websupport           1.1.2    \n",
      "spyder                             3.3.6    \n",
      "spyder-kernels                     0.5.2    \n",
      "SQLAlchemy                         1.3.9    \n",
      "statsmodels                        0.10.1   \n",
      "sympy                              1.4      \n",
      "tables                             3.5.2    \n",
      "tblib                              1.4.0    \n",
      "terminado                          0.8.2    \n",
      "testpath                           0.4.2    \n",
      "texttable                          1.6.4    \n",
      "toolz                              0.10.0   \n",
      "tornado                            6.0.3    \n",
      "tqdm                               4.36.1   \n",
      "traitlets                          4.3.3    \n",
      "unicodecsv                         0.14.1   \n",
      "urllib3                            1.24.2   \n",
      "wcwidth                            0.1.7    \n",
      "webencodings                       0.5.1    \n",
      "Werkzeug                           0.16.0   \n",
      "wheel                              0.33.6   \n",
      "widgetsnbextension                 3.5.1    \n",
      "win-inet-pton                      1.1.0    \n",
      "win-unicode-console                0.5      \n",
      "wincertstore                       0.2      \n",
      "wrapt                              1.11.2   \n",
      "xlrd                               1.2.0    \n",
      "XlsxWriter                         1.2.1    \n",
      "xlwings                            0.15.10  \n",
      "xlwt                               1.3.0    \n",
      "xmltodict                          0.12.0   \n",
      "zict                               1.0.0    \n",
      "zipp                               0.6.0    \n",
      "Note: you may need to restart the kernel to use updated packages.\n"
     ]
    }
   ],
   "source": [
    "pip list"
   ]
  },
  {
   "cell_type": "code",
   "execution_count": 1,
   "metadata": {
    "scrolled": true
   },
   "outputs": [
    {
     "name": "stdout",
     "output_type": "stream",
     "text": [
      "Collecting python-louvain\n",
      "  Downloading https://files.pythonhosted.org/packages/7c/0d/8787b021d52eb8764c0bb18ab95f720cf554902044c6a5cb1865daf45763/python-louvain-0.16.tar.gz (204kB)\n",
      "Requirement already satisfied: networkx in c:\\anaconda\\lib\\site-packages (from python-louvain) (2.3)\n",
      "Requirement already satisfied: numpy in c:\\anaconda\\lib\\site-packages (from python-louvain) (1.16.5)\n",
      "Requirement already satisfied: decorator>=4.3.0 in c:\\anaconda\\lib\\site-packages (from networkx->python-louvain) (4.4.0)\n",
      "Building wheels for collected packages: python-louvain\n",
      "  Building wheel for python-louvain (setup.py): started\n",
      "  Building wheel for python-louvain (setup.py): finished with status 'done'\n",
      "  Created wheel for python-louvain: filename=python_louvain-0.16-cp37-none-any.whl size=9401 sha256=84d600264846ff873965eb39a2f3a7b477767e7475df301b775b86d366e40acc\n",
      "  Stored in directory: C:\\Users\\HP\\AppData\\Local\\pip\\Cache\\wheels\\73\\68\\16\\01a6fa0a2f8a718cda81c3b8108d5afbc9feb1030d053e5532\n",
      "Successfully built python-louvain\n",
      "Installing collected packages: python-louvain\n",
      "Successfully installed python-louvain-0.16\n",
      "Note: you may need to restart the kernel to use updated packages.\n"
     ]
    }
   ],
   "source": [
    "pip install python-louvain"
   ]
  },
  {
   "cell_type": "code",
   "execution_count": 6,
   "metadata": {},
   "outputs": [],
   "source": [
    "import leidenalg \n",
    "import igraph as ig\n",
    "import community"
   ]
  },
  {
   "cell_type": "code",
   "execution_count": 7,
   "metadata": {},
   "outputs": [],
   "source": [
    "graph = { \n",
    "   \"a\" : [\"b\",\"c\"],\n",
    "   \"b\" : [\"a\", \"d\"],\n",
    "   \"c\" : [\"a\", \"d\"],\n",
    "   \"d\" : [\"e\"],\n",
    "   \"e\" : [\"d\",\"f\"],\n",
    "    \"f\": [\"e\",\"j\"],\n",
    "    \"j\" : [\"f\"]\n",
    "}"
   ]
  },
  {
   "cell_type": "code",
   "execution_count": 8,
   "metadata": {},
   "outputs": [],
   "source": [
    "a=[[i] for i in list(graph.keys())]"
   ]
  },
  {
   "cell_type": "code",
   "execution_count": 9,
   "metadata": {},
   "outputs": [
    {
     "data": {
      "text/plain": [
       "[['a'], ['b'], ['c'], ['d'], ['e'], ['f'], ['j']]"
      ]
     },
     "execution_count": 9,
     "metadata": {},
     "output_type": "execute_result"
    }
   ],
   "source": [
    "a"
   ]
  },
  {
   "cell_type": "code",
   "execution_count": 10,
   "metadata": {},
   "outputs": [],
   "source": [
    "# задать грав как словарь -- вершины-ключи, значения - список вершин с которым соединен ключ\n",
    "#функция выдает множество вершин графа \n",
    "# нужна чтобы представить каждую вершину, как сообщество\n",
    "def singletonPartitin(G):\n",
    "    v = [[i] for i in list(G.keys())]\n",
    "    return v"
   ]
  },
  {
   "cell_type": "code",
   "execution_count": 11,
   "metadata": {},
   "outputs": [],
   "source": [
    "# edges \n",
    "def findedges(G):\n",
    "    edgename = []\n",
    "    for vrtx in G:\n",
    "        for nxtvrtx in G[vrtx]:\n",
    "            if {nxtvrtx, vrtx} not in edgename:\n",
    "                edgename.append({vrtx, nxtvrtx})\n",
    "    return edgename"
   ]
  },
  {
   "cell_type": "code",
   "execution_count": 12,
   "metadata": {},
   "outputs": [
    {
     "data": {
      "text/plain": [
       "[{'a', 'b'},\n",
       " {'a', 'c'},\n",
       " {'b', 'd'},\n",
       " {'c', 'd'},\n",
       " {'d', 'e'},\n",
       " {'e', 'f'},\n",
       " {'f', 'j'}]"
      ]
     },
     "execution_count": 12,
     "metadata": {},
     "output_type": "execute_result"
    }
   ],
   "source": [
    "findedges(graph)"
   ]
  },
  {
   "cell_type": "code",
   "execution_count": 13,
   "metadata": {},
   "outputs": [],
   "source": [
    "part = { \n",
    "   \"C1\" : {\"a\" : [\"b\",\"c\"],   \"c\" : [\"a\"], \"b\" : [\"a\"] },\n",
    "   \"C2\" : {\"d\" : [\"e\"], \"e\" : [\"d\"]},\n",
    "    \"C3\": {\"j\": [\"f\"], \"f\": [\"j\"]}\n",
    "}"
   ]
  },
  {
   "cell_type": "code",
   "execution_count": 124,
   "metadata": {
    "scrolled": false
   },
   "outputs": [
    {
     "data": {
      "text/plain": [
       "[{'a': ['b', 'c'], 'c': ['a'], 'b': ['a']},\n",
       " {'d': ['e'], 'e': ['d']},\n",
       " {'j': ['f'], 'f': ['j']}]"
      ]
     },
     "execution_count": 124,
     "metadata": {},
     "output_type": "execute_result"
    }
   ],
   "source": [
    "[part.setdefault(i)for i in list(part.keys())]"
   ]
  },
  {
   "cell_type": "code",
   "execution_count": 101,
   "metadata": {},
   "outputs": [],
   "source": [
    "l=[]\n",
    "for el in findedges(graph):\n",
    "    if el not in a:\n",
    "        l.append(el)"
   ]
  },
  {
   "cell_type": "code",
   "execution_count": 102,
   "metadata": {},
   "outputs": [
    {
     "data": {
      "text/plain": [
       "[{'b', 'd'}, {'c', 'd'}, {'e', 'f'}, {'f', 'j'}]"
      ]
     },
     "execution_count": 102,
     "metadata": {},
     "output_type": "execute_result"
    }
   ],
   "source": [
    "l"
   ]
  },
  {
   "cell_type": "code",
   "execution_count": 125,
   "metadata": {},
   "outputs": [],
   "source": [
    "listk = [[i,j] for i in list(part.keys()) for j in list(part.keys()) if i<j ]"
   ]
  },
  {
   "cell_type": "code",
   "execution_count": 126,
   "metadata": {},
   "outputs": [
    {
     "data": {
      "text/plain": [
       "[['C1', 'C2'], ['C1', 'C3'], ['C2', 'C3']]"
      ]
     },
     "execution_count": 126,
     "metadata": {},
     "output_type": "execute_result"
    }
   ],
   "source": [
    "listk"
   ]
  },
  {
   "cell_type": "code",
   "execution_count": 127,
   "metadata": {},
   "outputs": [],
   "source": [
    "a = findedges(part.setdefault(listk[0][0]))\n",
    "a.extend(findedges(part.setdefault(listk[0][1])))"
   ]
  },
  {
   "cell_type": "code",
   "execution_count": 128,
   "metadata": {},
   "outputs": [
    {
     "data": {
      "text/plain": [
       "[{'a', 'b'}, {'a', 'c'}, {'d', 'e'}]"
      ]
     },
     "execution_count": 128,
     "metadata": {},
     "output_type": "execute_result"
    }
   ],
   "source": [
    "a"
   ]
  },
  {
   "cell_type": "code",
   "execution_count": 129,
   "metadata": {},
   "outputs": [
    {
     "data": {
      "text/plain": [
       "['a', 'c', 'b', 'd', 'e']"
      ]
     },
     "execution_count": 129,
     "metadata": {},
     "output_type": "execute_result"
    }
   ],
   "source": [
    "ver = list(part.setdefault(listk[0][0]).keys())\n",
    "ver.extend(list(part.setdefault(listk[0][1]).keys()))\n",
    "ver"
   ]
  },
  {
   "cell_type": "code",
   "execution_count": 130,
   "metadata": {},
   "outputs": [],
   "source": [
    "newv = []\n",
    "gr = {}\n",
    "for k in ver:\n",
    "    for el in graph.get(k):\n",
    "        if el in ver:\n",
    "            newv.append(el)\n",
    "    gr.update([(k,newv)])\n",
    "    newv = []"
   ]
  },
  {
   "cell_type": "code",
   "execution_count": 131,
   "metadata": {},
   "outputs": [
    {
     "data": {
      "text/plain": [
       "{'a': ['b', 'c'], 'c': ['a', 'd'], 'b': ['a', 'd'], 'd': ['e'], 'e': ['d']}"
      ]
     },
     "execution_count": 131,
     "metadata": {},
     "output_type": "execute_result"
    }
   ],
   "source": [
    "gr"
   ]
  },
  {
   "cell_type": "code",
   "execution_count": 132,
   "metadata": {},
   "outputs": [],
   "source": [
    "ed = findedges(gr)"
   ]
  },
  {
   "cell_type": "code",
   "execution_count": 133,
   "metadata": {},
   "outputs": [
    {
     "data": {
      "text/plain": [
       "[{'a', 'b'}, {'a', 'c'}, {'c', 'd'}, {'b', 'd'}, {'d', 'e'}]"
      ]
     },
     "execution_count": 133,
     "metadata": {},
     "output_type": "execute_result"
    }
   ],
   "source": [
    "ed"
   ]
  },
  {
   "cell_type": "code",
   "execution_count": 134,
   "metadata": {},
   "outputs": [
    {
     "data": {
      "text/plain": [
       "[{'c', 'd'}, {'b', 'd'}]"
      ]
     },
     "execution_count": 134,
     "metadata": {},
     "output_type": "execute_result"
    }
   ],
   "source": [
    "[el for el in ed if el not in a]"
   ]
  },
  {
   "cell_type": "code",
   "execution_count": 106,
   "metadata": {},
   "outputs": [
    {
     "data": {
      "text/plain": [
       "[1, 2]"
      ]
     },
     "execution_count": 106,
     "metadata": {},
     "output_type": "execute_result"
    }
   ],
   "source": [
    "listk[0]"
   ]
  },
  {
   "cell_type": "code",
   "execution_count": 135,
   "metadata": {},
   "outputs": [
    {
     "data": {
      "text/plain": [
       "{'C1C2': [{'c', 'd'}, {'b', 'd'}]}"
      ]
     },
     "execution_count": 135,
     "metadata": {},
     "output_type": "execute_result"
    }
   ],
   "source": [
    "{listk[0][0]+listk[0][1]:[el for el in ed if el not in a]}"
   ]
  },
  {
   "cell_type": "code",
   "execution_count": 137,
   "metadata": {},
   "outputs": [],
   "source": [
    "ll={}\n",
    "a=[]\n",
    "for el in listk:\n",
    "    a = findedges(part.setdefault(el[0]))\n",
    "    a.extend(findedges(part.setdefault(el[1])))\n",
    "    ll.update([(el[0]+el[1], a)])\n",
    "    a= []"
   ]
  },
  {
   "cell_type": "code",
   "execution_count": 138,
   "metadata": {},
   "outputs": [
    {
     "data": {
      "text/plain": [
       "{'C1C2': [{'a', 'b'}, {'a', 'c'}, {'d', 'e'}],\n",
       " 'C1C3': [{'a', 'b'}, {'a', 'c'}, {'f', 'j'}],\n",
       " 'C2C3': [{'d', 'e'}, {'f', 'j'}]}"
      ]
     },
     "execution_count": 138,
     "metadata": {},
     "output_type": "execute_result"
    }
   ],
   "source": [
    "ll"
   ]
  },
  {
   "cell_type": "code",
   "execution_count": 283,
   "metadata": {},
   "outputs": [
    {
     "data": {
      "text/plain": [
       "{'C1C2': [{'c', 'd'}, {'b', 'd'}], 'C1C3': [], 'C2C3': [{'e', 'f'}]}"
      ]
     },
     "execution_count": 283,
     "metadata": {},
     "output_type": "execute_result"
    }
   ],
   "source": [
    "newv = []\n",
    "l=[]\n",
    "gr = {}\n",
    "ll1={}\n",
    "ll2={}\n",
    "d={}\n",
    "for el in listk:\n",
    "    ver = list(part.setdefault(el[0]).keys())\n",
    "    ver.extend(list(part.setdefault(el[1]).keys()))\n",
    "    a = findedges(part.setdefault(el[0]))\n",
    "    a.extend(findedges(part.setdefault(el[1])))\n",
    "    for k in ver:\n",
    "        for i in graph.get(k):\n",
    "            if i in ver:\n",
    "                newv.append(i)\n",
    "        gr.update([(k,newv)])\n",
    "        ed = findedges(gr)\n",
    "        newv = []\n",
    "        red = [e for e in ed if e not in a]\n",
    "    ll1.update([(el[0]+el[1],red)])\n",
    "    if red !=[]:\n",
    "        if el[0] not in d.keys():\n",
    "            d.update([(el[0],None)])\n",
    "        if d[el[0]] == None:\n",
    "            d.update([(el[0],[el[1]])])\n",
    "        if d[el[0]] != None and el[1]not in  d[el[0]]:\n",
    "            d[el[0]].append(el[1])\n",
    "        \n",
    "        if el[1] not in d.keys():\n",
    "            d.update([(el[1],None)])\n",
    "        if d[el[1]] == None:\n",
    "            d.update([(el[1],[el[0]])])\n",
    "        if d[el[1]] != None and el[1]not in  d[el[0]]:\n",
    "            d[el[1]].append(el[0])\n",
    "        \n",
    "            \n",
    "    keys = []\n",
    "    w =[]\n",
    "    ver= []\n",
    "    a=[]\n",
    "    gr={}\n",
    "    ed = []\n",
    "    \n",
    "ll1"
   ]
  },
  {
   "cell_type": "code",
   "execution_count": 284,
   "metadata": {},
   "outputs": [
    {
     "data": {
      "text/plain": [
       "{'C1': ['C2'], 'C2': ['C1', 'C3'], 'C3': ['C2']}"
      ]
     },
     "execution_count": 284,
     "metadata": {},
     "output_type": "execute_result"
    }
   ],
   "source": [
    "d"
   ]
  },
  {
   "cell_type": "code",
   "execution_count": 214,
   "metadata": {},
   "outputs": [
    {
     "data": {
      "text/plain": [
       "[['C1', 'C2'], ['C1', 'C3'], ['C2', 'C3']]"
      ]
     },
     "execution_count": 214,
     "metadata": {},
     "output_type": "execute_result"
    }
   ],
   "source": [
    "listk"
   ]
  },
  {
   "cell_type": "code",
   "execution_count": 182,
   "metadata": {},
   "outputs": [],
   "source": [
    "kk = {'C1':['C2'], 'C2':['C1','C3'],'C3':['C2'] }"
   ]
  },
  {
   "cell_type": "code",
   "execution_count": 290,
   "metadata": {},
   "outputs": [],
   "source": [
    "\"\"\"создает агрегированный гаф\n",
    "    каждое сообщество в разбиении становится узлом, множество ребер - ребра соединяющие вершины двух разбиений\n",
    "    \n",
    "    разбиение это множество сообществ, сообщество - множество узлов, объединение сообществ = множеству узлов\n",
    "    \n",
    "    ребра - многрагранники, ребра соединяют сообщества,т.е. соединяют каждую вершину из одного сообщества с вершиной из другого\n",
    "         ребра, образованные такими вершинами - ребра исходного графа \n",
    "         \n",
    "     вершины агрегированного графа будут также графами, представим их словарями \n",
    "         ребра соединяют графы, каждое ребро состоит из ребер исходного графа \"\"\" \n",
    "#агрегирует граф, выдает [{AG_edge: G_edges}, AG_grap] \n",
    "def AggregateGraph(G,P):\n",
    "    \n",
    "    vert =list(P.keys())\n",
    "    \n",
    "    #all possible pairs of communities\n",
    "    listpairs = [[i,j] for i in vert for j in vert if i<j ]\n",
    "    \n",
    "    #edges of part G, containing two communities - dict{pair: edges}\n",
    "    d_part_G={}\n",
    "    part_gr = {}\n",
    "    new_ver = []\n",
    "    arr_gr = {}\n",
    "    for el in listpairs:\n",
    "        #all verticies in pair of 2 communities\n",
    "        eme = list(P.setdefault(el[0]).keys())\n",
    "        eme.extend(list(P.setdefault(el[1]).keys()))\n",
    "        #all edges in pair of 2 communities\n",
    "        emv = findedges(P.setdefault(el[0]))\n",
    "        emv.extend(findedges(P.setdefault(el[1])))\n",
    "        for k in eme:\n",
    "            for i in G.get(k):\n",
    "                if i in eme:\n",
    "                    new_ver.append(i)\n",
    "            #part of G? cintaining 2 communities\n",
    "            part_gr.update([(k,new_ver)])\n",
    "            #edgies in part G\n",
    "            new_ed =findedges(part_gr)\n",
    "            #edges between 2 communities\n",
    "            right_ed = [e for e in new_ed if e not in emv]\n",
    "            new_ver = []\n",
    "        #dict -- {pair: edges}\n",
    "        d_part_G.update([(el[0]+el[1],right_ed)])\n",
    "        if right_ed !=[]:\n",
    "            if el[0] not in arr_gr.keys():\n",
    "                arr_gr.update([(el[0],None)])\n",
    "            if arr_gr[el[0]] == None:\n",
    "                arr_gr.update([(el[0],[el[1]])])\n",
    "            if arr_gr[el[0]] != None and el[1] not in arr_gr[el[0]] :\n",
    "                arr_gr[el[0]].append(el[1])\n",
    "\n",
    "            if el[1] not in arr_gr.keys():\n",
    "                arr_gr.update([(el[1],None)])\n",
    "            if arr_gr[el[1]] == None:\n",
    "                arr_gr.update([(el[1],[el[0]])])\n",
    "            if arr_gr[el[1]] != None and el[0] not in arr_gr[el[1]]:\n",
    "                arr_gr[el[1]].append(el[0])\n",
    "        eme= []\n",
    "        emv = []\n",
    "        part_gr={}\n",
    "        new_ed=[]\n",
    "\n",
    "    return [d_part_G,arr_gr]"
   ]
  },
  {
   "cell_type": "code",
   "execution_count": 291,
   "metadata": {},
   "outputs": [
    {
     "data": {
      "text/plain": [
       "[{'C1C2': [{'c', 'd'}, {'b', 'd'}], 'C1C3': [], 'C2C3': [{'e', 'f'}]},\n",
       " {'C1': ['C2'], 'C2': ['C1', 'C3'], 'C3': ['C2']}]"
      ]
     },
     "execution_count": 291,
     "metadata": {},
     "output_type": "execute_result"
    }
   ],
   "source": [
    "AggregateGraph(graph,part)"
   ]
  },
  {
   "cell_type": "code",
   "execution_count": null,
   "metadata": {},
   "outputs": [],
   "source": [
    "\"\"\"сообщества могут быть разделены на подмножжества S\n",
    " \n",
    " S состоит из графиов, поэтому ее размерность сумма размерностей графа, т.е. сумма вершин графиов\n",
    "\n",
    " расстояние между вершиной v и S-v = E(v,S-v) >= g |v|(|S-v|), будем рассматривать только такие вершины\n",
    " проходимся по каждой вершине из выбранных, если она одиночное сообщество\n",
    " создаем множество сообществ, подходящих оценке\n",
    " выбираем рандомное сообществот и проверяем\n",
    " \"\"\"\n",
    "def MergeNodesSubset(G,P,S):\n",
    "    pass"
   ]
  },
  {
   "cell_type": "code",
   "execution_count": 293,
   "metadata": {},
   "outputs": [],
   "source": [
    "\"\"\"\n",
    "из всех вершин, являющихся сообшествами, выбираем вершину и  определяем подходящее сообщество с помощью функии оптимальности\n",
    "определяем окружение вершины, т.е. все вершины связанные с выбранной ребрами\n",
    "добавляем соседнии вершины в список для посещения\n",
    "\n",
    "\"\"\"\n",
    "def MoveNodesFast(G,P):\n",
    "    pass"
   ]
  },
  {
   "cell_type": "code",
   "execution_count": null,
   "metadata": {},
   "outputs": [],
   "source": [
    "def modularity()"
   ]
  },
  {
   "cell_type": "code",
   "execution_count": 1,
   "metadata": {},
   "outputs": [],
   "source": [
    "import networkx as nx\n",
    "import matplotlib.pyplot as plt"
   ]
  },
  {
   "cell_type": "code",
   "execution_count": 2,
   "metadata": {},
   "outputs": [],
   "source": [
    "G = nx.complete_graph(100)"
   ]
  },
  {
   "cell_type": "code",
   "execution_count": 3,
   "metadata": {},
   "outputs": [
    {
     "name": "stderr",
     "output_type": "stream",
     "text": [
      "C:\\anaconda\\lib\\site-packages\\networkx\\drawing\\nx_pylab.py:579: MatplotlibDeprecationWarning: \n",
      "The iterable function was deprecated in Matplotlib 3.1 and will be removed in 3.3. Use np.iterable instead.\n",
      "  if not cb.iterable(width):\n"
     ]
    },
    {
     "data": {
      "image/png": "[encoded data removed]",
      "text/plain": [
       "<Figure size 432x288 with 1 Axes>"
      ]
     },
     "metadata": {},
     "output_type": "display_data"
    }
   ],
   "source": [
    "nx.draw(G, with_labels=True, font_weight='bold')"
   ]
  },
  {
   "cell_type": "code",
   "execution_count": 4,
   "metadata": {},
   "outputs": [
    {
     "data": {
      "text/plain": [
       "NodeView((0, 1, 2, 3, 4, 5, 6, 7, 8, 9, 10, 11, 12, 13, 14, 15, 16, 17, 18, 19, 20, 21, 22, 23, 24, 25, 26, 27, 28, 29, 30, 31, 32, 33, 34, 35, 36, 37, 38, 39, 40, 41, 42, 43, 44, 45, 46, 47, 48, 49, 50, 51, 52, 53, 54, 55, 56, 57, 58, 59, 60, 61, 62, 63, 64, 65, 66, 67, 68, 69, 70, 71, 72, 73, 74, 75, 76, 77, 78, 79, 80, 81, 82, 83, 84, 85, 86, 87, 88, 89, 90, 91, 92, 93, 94, 95, 96, 97, 98, 99))"
      ]
     },
     "execution_count": 4,
     "metadata": {},
     "output_type": "execute_result"
    }
   ],
   "source": [
    "G.nodes"
   ]
  },
  {
   "cell_type": "code",
   "execution_count": 2,
   "metadata": {},
   "outputs": [],
   "source": [
    "G = nx.karate_club_graph ()"
   ]
  },
  {
   "cell_type": "code",
   "execution_count": 4,
   "metadata": {},
   "outputs": [
    {
     "name": "stderr",
     "output_type": "stream",
     "text": [
      "C:\\anaconda\\lib\\site-packages\\networkx\\drawing\\nx_pylab.py:579: MatplotlibDeprecationWarning: \n",
      "The iterable function was deprecated in Matplotlib 3.1 and will be removed in 3.3. Use np.iterable instead.\n",
      "  if not cb.iterable(width):\n"
     ]
    },
    {
     "data": {
      "image/png": "[encoded data removed]",
      "text/plain": [
       "<Figure size 432x288 with 1 Axes>"
      ]
     },
     "metadata": {},
     "output_type": "display_data"
    }
   ],
   "source": [
    "nx.draw(G, with_labels=True, font_weight='bold')"
   ]
  },
  {
   "cell_type": "markdown",
   "metadata": {},
   "source": [
    "1) сделать начальное разбиение. Выбираем вершину и добавляем в сообщество, затем определяем остальные вершины с которыми она связана и добавляем в тоже сообщество или создаем новое. \n",
    "2) задаем граф с помощью матрицы смежности"
   ]
  },
  {
   "cell_type": "code",
   "execution_count": 12,
   "metadata": {},
   "outputs": [],
   "source": [
    "import numpy as np"
   ]
  },
  {
   "cell_type": "code",
   "execution_count": null,
   "metadata": {},
   "outputs": [],
   "source": []
  }
 ],
 "metadata": {
  "kernelspec": {
   "display_name": "Python 3",
   "language": "python",
   "name": "python3"
  },
  "language_info": {
   "codemirror_mode": {
    "name": "ipython",
    "version": 3
   },
   "file_extension": ".py",
   "mimetype": "text/x-python",
   "name": "python",
   "nbconvert_exporter": "python",
   "pygments_lexer": "ipython3",
   "version": "3.7.4"
  }
 },
 "nbformat": 4,
 "nbformat_minor": 5
}
